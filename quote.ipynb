{
 "cells": [
  {
   "cell_type": "code",
   "execution_count": 5,
   "metadata": {},
   "outputs": [
    {
     "name": "stdout",
     "output_type": "stream",
     "text": [
      "已处理文件: D:\\NTU\\_1121\\1121_Fiscal_Law\\index.rmd\n",
      "已处理文件: D:\\NTU\\_1121\\1121_Fiscal_Law\\preamble.tex\n",
      "已处理文件: D:\\NTU\\_1121\\1121_Fiscal_Law\\W01_0905.rmd\n",
      "已处理文件: D:\\NTU\\_1121\\1121_Fiscal_Law\\W02_0912.rmd\n",
      "已处理文件: D:\\NTU\\_1121\\1121_Fiscal_Law\\W03_0919.rmd\n",
      "已处理文件: D:\\NTU\\_1121\\1121_Fiscal_Law\\W04_0926.rmd\n",
      "已处理文件: D:\\NTU\\_1121\\1121_Fiscal_Law\\W05_1003.rmd\n",
      "已处理文件: D:\\NTU\\_1121\\1121_Fiscal_Law\\W07_1017.rmd\n",
      "已处理文件: D:\\NTU\\_1121\\1121_Fiscal_Law\\W08_1024.rmd\n",
      "已处理文件: D:\\NTU\\_1121\\1121_Fiscal_Law\\W09_1031.rmd\n",
      "已处理文件: D:\\NTU\\_1121\\1121_Fiscal_Law\\W10_1107.rmd\n",
      "已处理文件: D:\\NTU\\_1121\\1121_Fiscal_Law\\W12_1121.rmd\n",
      "已处理文件: D:\\NTU\\_1121\\1121_Fiscal_Law\\W13_1128.rmd\n",
      "已处理文件: D:\\NTU\\_1121\\1121_Fiscal_Law\\W14_1205.rmd\n",
      "已处理文件: D:\\NTU\\_1121\\1121_Fiscal_Law\\W15_1212.rmd\n",
      "已处理文件: D:\\NTU\\_1121\\1121_Fiscal_Law\\latex\\after_body.tex\n",
      "已处理文件: D:\\NTU\\_1121\\1121_Fiscal_Law\\latex\\before_body.tex\n",
      "已处理文件: D:\\NTU\\_1121\\1121_Fiscal_Law\\latex\\preamble.tex\n",
      "已处理文件: D:\\NTU\\_1121\\1121_Fiscal_Law\\latex\\template.tex\n",
      "已处理文件: D:\\NTU\\_1121\\1121_Fiscal_Law\\_material\\_我的學期報告\\table.tex\n",
      "已处理文件: D:\\NTU\\_1121\\1121_Fiscal_Law\\_material\\_我的學期報告\\我的期中版報告寫作檔案\\preamble.tex\n",
      "已处理文件: D:\\NTU\\_1121\\1121_Fiscal_Law\\_material\\_我的學期報告\\我的期中版報告寫作檔案\\preamble2.tex\n",
      "已处理文件: D:\\NTU\\_1121\\1121_Fiscal_Law\\_material\\_我的學期報告\\我的期中版報告寫作檔案\\R10A21126.tex\n",
      "已处理文件: D:\\NTU\\_1121\\1121_Fiscal_Law\\_material\\_我的學期報告\\我的期中版報告寫作檔案\\table01.tex\n",
      "已处理文件: D:\\NTU\\_1121\\1121_Fiscal_Law\\_material\\_我的學期報告\\我的期中版報告寫作檔案\\_cases.tex\n",
      "已处理文件: D:\\NTU\\_1121\\1121_Fiscal_Law\\_material\\_我的學期報告\\我的期中版報告寫作檔案\\_intro.tex\n",
      "已处理文件: D:\\NTU\\_1121\\1121_Fiscal_Law\\_material\\_我的學期報告\\我的期中版報告寫作檔案\\_構成要件.tex\n",
      "已处理文件: D:\\NTU\\_1121\\1121_Fiscal_Law\\_material\\_我的學期報告\\我的期中版報告寫作檔案\\_特別公課與稅捐的區別\\整理：特別功課與稅捐的區別.rmd\n",
      "已处理文件: D:\\NTU\\_1121\\1121_Fiscal_Law\\_material\\_我的學期報告\\我的期中版報告寫作檔案\\測試\\test.tex\n",
      "已处理文件: D:\\NTU\\_1121\\1121_Fiscal_Law\\_material\\_我的學期報告\\我的期中版報告寫作檔案\\測試\\test2.tex\n",
      "已处理文件: D:\\NTU\\_1121\\1121_Fiscal_Law\\_material\\_我的學期報告\\我的期末報告寫作檔案\\preamble.tex\n",
      "已处理文件: D:\\NTU\\_1121\\1121_Fiscal_Law\\_material\\_我的學期報告\\我的期末報告寫作檔案\\preamble2.tex\n",
      "已处理文件: D:\\NTU\\_1121\\1121_Fiscal_Law\\_material\\_我的學期報告\\我的期末報告寫作檔案\\R10A21126.tex\n",
      "已处理文件: D:\\NTU\\_1121\\1121_Fiscal_Law\\_material\\_我的學期報告\\我的期末報告寫作檔案\\table01.tex\n",
      "已处理文件: D:\\NTU\\_1121\\1121_Fiscal_Law\\_material\\_我的學期報告\\我的期末報告寫作檔案\\table02.tex\n",
      "已处理文件: D:\\NTU\\_1121\\1121_Fiscal_Law\\_material\\_我的學期報告\\我的期末報告寫作檔案\\table_budget.tex\n",
      "已处理文件: D:\\NTU\\_1121\\1121_Fiscal_Law\\_material\\_我的學期報告\\我的期末報告寫作檔案\\_cases.tex\n",
      "已处理文件: D:\\NTU\\_1121\\1121_Fiscal_Law\\_material\\_我的學期報告\\我的期末報告寫作檔案\\_intro.tex\n",
      "已处理文件: D:\\NTU\\_1121\\1121_Fiscal_Law\\_material\\_我的學期報告\\我的期末報告寫作檔案\\_構成要件.tex\n",
      "已处理文件: D:\\NTU\\_1121\\1121_Fiscal_Law\\_material\\_我的學期報告\\我的期末報告寫作檔案\\_特別公課與稅捐的區別\\整理：特別功課與稅捐的區別.rmd\n",
      "已处理文件: D:\\NTU\\_1121\\1121_Fiscal_Law\\_material\\_我的學期報告\\我的期末報告寫作檔案\\測試\\test.tex\n",
      "已处理文件: D:\\NTU\\_1121\\1121_Fiscal_Law\\_material\\_我的學期報告\\我的期末報告寫作檔案\\測試\\test2.tex\n",
      "已处理文件: D:\\NTU\\_1121\\1121_Fiscal_Law\\_material\\同學報告\\test\\preamble2.tex\n",
      "已处理文件: D:\\NTU\\_1121\\1121_Fiscal_Law\\_material\\同學報告\\test\\R10A21126.tex\n",
      "已处理文件: D:\\NTU\\_1121\\1121_Fiscal_Law\\_material\\同學報告\\test\\test.tex\n",
      "已处理文件: D:\\NTU\\_1121\\1121_Fiscal_Law\\_My_Response\\Response_01_To_Professor.rmd\n",
      "已处理文件: D:\\NTU\\_1121\\1121_Fiscal_Law\\_My_Response\\Response_02_To_Classmates.rmd\n"
     ]
    }
   ],
   "source": [
    "import os\n",
    "\n",
    "def replace_quotes_in_file(file_path):\n",
    "    with open(file_path, 'r', encoding='utf-8') as file:\n",
    "        content = file.read()\n",
    "\n",
    "    # 将中文引号替换为方角引号\n",
    "    content = content.replace('“', '「').replace('”', '」').replace('采取','採取').replace('前注','前註')\n",
    "\n",
    "    with open(file_path, 'w', encoding='utf-8') as file:\n",
    "        file.write(content)\n",
    "\n",
    "def process_files_in_directory(directory):\n",
    "    for root, dirs, files in os.walk(directory):\n",
    "        for file_name in files:\n",
    "            if file_name.endswith(('.rmd', '.tex')):\n",
    "                file_path = os.path.join(root, file_name)\n",
    "                replace_quotes_in_file(file_path)\n",
    "                print(f'已处理文件: {file_path}')\n",
    "\n",
    "# 指定包含txt文件的文件夹路径\n",
    "folder_path =  r\"D:\\NTU\\_1121\\1121_Fiscal_Law\"\n",
    "\n",
    "# 处理文件夹中的所有文件\n",
    "process_files_in_directory(folder_path)\n"
   ]
  },
  {
   "cell_type": "code",
   "execution_count": null,
   "metadata": {},
   "outputs": [],
   "source": []
  }
 ],
 "metadata": {
  "kernelspec": {
   "display_name": "Python 3",
   "language": "python",
   "name": "python3"
  },
  "language_info": {
   "codemirror_mode": {
    "name": "ipython",
    "version": 3
   },
   "file_extension": ".py",
   "mimetype": "text/x-python",
   "name": "python",
   "nbconvert_exporter": "python",
   "pygments_lexer": "ipython3",
   "version": "3.12.0"
  }
 },
 "nbformat": 4,
 "nbformat_minor": 2
}
