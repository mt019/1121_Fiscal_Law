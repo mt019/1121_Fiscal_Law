{
 "cells": [
  {
   "cell_type": "code",
   "execution_count": 4,
   "metadata": {},
   "outputs": [],
   "source": [
    "import fitz  # PyMuPDF\n",
    "import os\n",
    "\n",
    "pdf_file = r\"/Users/iw/Documents/My_NTU/1121/1121財政法專題研究/1121_Fiscal_Law_Seminar/_material/_我的學期報告/參考資料/cai air/pdf24_merged.pdf\"\n",
    "output_dir = r\"/Users/iw/Documents/My_NTU/1121/1121財政法專題研究/1121_Fiscal_Law_Seminar/_material/_我的學期報告/參考資料/cai air/bw.pdf\"\n",
    "\n",
    "os.makedirs(output_dir, exist_ok=True)\n",
    "\n",
    "pdf_document = fitz.open(pdf_file)\n",
    "resolution_parameter = 300\n",
    "\n",
    "for page_num in range(pdf_document.page_count):\n",
    "    page = pdf_document.load_page(page_num)\n",
    "    image = page.get_pixmap(dpi = resolution_parameter)\n",
    "    image.save(os.path.join(output_dir, f\"page_{page_num + 1}.png\"))\n"
   ]
  },
  {
   "cell_type": "code",
   "execution_count": 5,
   "metadata": {},
   "outputs": [],
   "source": [
    "from PIL import Image\n",
    "\n",
    "def preprocess_image(image_path):\n",
    "    image = Image.open(image_path)\n",
    "    image = image.convert('L')  # 轉換為灰度圖像\n",
    "\n",
    "    # 應用二值化閾值，根據需要調整閾值\n",
    "    threshold = 200\n",
    "    image = image.point(lambda p: p > threshold and 255)  # 大於閾值的像素變為255（白色）\n",
    "\n",
    "    image.save(image_path)\n",
    "\n",
    "image_files = os.listdir(output_dir)\n",
    "\n",
    "for image_file in image_files:\n",
    "    image_path = os.path.join(output_dir, image_file)\n",
    "    preprocess_image(image_path)\n"
   ]
  },
  {
   "cell_type": "code",
   "execution_count": 6,
   "metadata": {},
   "outputs": [],
   "source": [
    "from PIL import Image\n",
    "\n",
    "images = [Image.open(os.path.join(output_dir, image_file)) for image_file in sorted(image_files)]\n",
    "\n",
    "# 將圖像合併為PDF\n",
    "images[0].save(\"cleaned_book.pdf\", save_all=True, append_images=images[1:])\n"
   ]
  },
  {
   "cell_type": "code",
   "execution_count": null,
   "metadata": {},
   "outputs": [],
   "source": []
  }
 ],
 "metadata": {
  "kernelspec": {
   "display_name": "Python 3",
   "language": "python",
   "name": "python3"
  },
  "language_info": {
   "codemirror_mode": {
    "name": "ipython",
    "version": 3
   },
   "file_extension": ".py",
   "mimetype": "text/x-python",
   "name": "python",
   "nbconvert_exporter": "python",
   "pygments_lexer": "ipython3",
   "version": "3.11.4"
  }
 },
 "nbformat": 4,
 "nbformat_minor": 2
}
